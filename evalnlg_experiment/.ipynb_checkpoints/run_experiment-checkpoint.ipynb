{
 "cells": [
  {
   "cell_type": "markdown",
   "id": "cb683dae",
   "metadata": {},
   "source": [
    "## Loading packages and definitions"
   ]
  },
  {
   "cell_type": "code",
   "execution_count": 1,
   "id": "f1a3dc9b",
   "metadata": {},
   "outputs": [],
   "source": [
    "import numpy as np\n",
    "import pickle\n",
    "import random\n",
    "from tqdm import tqdm\n",
    "import matplotlib.pyplot as plt\n",
    "from sklearn.linear_model import LinearRegression\n",
    "from sklearn.metrics import confusion_matrix\n",
    "import itertools\n",
    "import math\n",
    "from utils import *"
   ]
  },
  {
   "cell_type": "markdown",
   "id": "7379925d",
   "metadata": {},
   "source": [
    "Defining some relationships"
   ]
  },
  {
   "cell_type": "code",
   "execution_count": 2,
   "id": "945a8da2",
   "metadata": {},
   "outputs": [],
   "source": [
    "B = 25 #MC repetitions\n",
    "correlation = 'pearson' #meta-metric\n",
    "\n",
    "dims = ['coh', 'con', 'flu', 'rel']\n",
    "\n",
    "dims2datasets = {'coh': ['summeval', 'newsroom'],\n",
    "                 'con': ['summeval', 'newsroom', 'hallxsum', 'qagscnn', 'qagsxsum'],\n",
    "                 'flu': ['summeval', 'newsroom'],\n",
    "                 'rel': ['summeval', 'newsroom']}\n",
    "\n",
    "datasets2dims = {'summeval': ['coh', 'con', 'flu', 'rel'],\n",
    "                 'newsroom': ['coh', 'con', 'flu', 'rel'],\n",
    "                 'hallxsum': ['con'],\n",
    "                 'qagscnn': ['con'],\n",
    "                 'qagsxsum': ['con']}\n",
    "\n",
    "datasets2label = {'summeval': 0,\n",
    "                  'newsroom': 1,\n",
    "                  'qagscnn': 2,\n",
    "                  'hallxsum': 3,\n",
    "                  'qagsxsum': 4}\n",
    "\n",
    "label2datasets = {0:'summeval',\n",
    "                  1:'newsroom',\n",
    "                  2:'qagscnn',\n",
    "                  3:'hallxsum',\n",
    "                  4:'qagsxsum'}\n",
    "\n",
    "dims2datasetslabels = {'coh': [datasets2label['summeval'], datasets2label['newsroom']], \n",
    "                       'con': [datasets2label['summeval'], datasets2label['newsroom'], datasets2label['hallxsum'], datasets2label['qagscnn'], datasets2label['qagsxsum']],\n",
    "                       'flu': [datasets2label['summeval'], datasets2label['newsroom']],\n",
    "                       'rel': [datasets2label['summeval'], datasets2label['newsroom']]}"
   ]
  },
  {
   "cell_type": "markdown",
   "id": "b90d4fde",
   "metadata": {},
   "source": [
    "## Setting up data"
   ]
  },
  {
   "cell_type": "markdown",
   "id": "93fc0176",
   "metadata": {},
   "source": [
    "Loading data"
   ]
  },
  {
   "cell_type": "code",
   "execution_count": 3,
   "id": "4de5c14c",
   "metadata": {},
   "outputs": [],
   "source": [
    "with open('data/data.pkl', 'rb') as f:\n",
    "    data = pickle.load(f)"
   ]
  },
  {
   "cell_type": "markdown",
   "id": "99ccef41",
   "metadata": {},
   "source": [
    "Some definitions"
   ]
  },
  {
   "cell_type": "code",
   "execution_count": 4,
   "id": "60acba3d",
   "metadata": {},
   "outputs": [
    {
     "data": {
      "text/plain": [
       "(['summeval', 'newsroom', 'qagscnn', 'qagsxsum', 'hallxsum'],\n",
       " ['bertscorefree',\n",
       "  'bartcnnscore',\n",
       "  'bartscore_pegasus_cnndm',\n",
       "  'bartscore_pegasus_newsroom',\n",
       "  'bartscore_pegasus_xsum',\n",
       "  'unieval'])"
      ]
     },
     "execution_count": 4,
     "metadata": {},
     "output_type": "execute_result"
    }
   ],
   "source": [
    "datasets = list(data.keys())\n",
    "metrics_names = list(data['summeval']['metrics'].keys())\n",
    "\n",
    "datasets, metrics_names"
   ]
  },
  {
   "cell_type": "markdown",
   "id": "06addd96",
   "metadata": {},
   "source": [
    "Renaming dimensions"
   ]
  },
  {
   "cell_type": "code",
   "execution_count": 5,
   "id": "5234b473",
   "metadata": {},
   "outputs": [],
   "source": [
    "key_mapping = {\"rel\": \"con\", \"info\": \"rel\"}\n",
    "for old_key, new_key in key_mapping.items():\n",
    "    if old_key in data['newsroom']['annot']:\n",
    "        data['newsroom']['annot'][new_key] = data['newsroom']['annot'].pop(old_key)\n",
    "\n",
    "for dataset in ['qagscnn', 'qagsxsum', 'hallxsum']:\n",
    "    key_mapping = {\"fact\": \"con\"}\n",
    "    for old_key, new_key in key_mapping.items():\n",
    "        if old_key in data[dataset]['annot']:\n",
    "            data[dataset]['annot'][new_key] = data[dataset]['annot'].pop(old_key)"
   ]
  },
  {
   "cell_type": "markdown",
   "id": "c5d11f9c",
   "metadata": {},
   "source": [
    "Organizing data for model training"
   ]
  },
  {
   "cell_type": "code",
   "execution_count": 6,
   "id": "42073827",
   "metadata": {},
   "outputs": [],
   "source": [
    "for dataset in datasets:\n",
    "    ##### Y #####\n",
    "    for dim in data[dataset]['annot'].keys():\n",
    "        data[dataset]['annot'][dim] = np.array(data[dataset]['annot'][dim])\n",
    "        \n",
    "    ##### X #####\n",
    "    data[dataset]['metrics']['array'] = []\n",
    "    data[dataset]['metrics']['names'] = []\n",
    "\n",
    "    for metric in metrics_names:\n",
    "        metric_array = np.array(data[dataset]['metrics'][metric])\n",
    "        metric_array = metric_array.reshape(metric_array.shape[0], -1)\n",
    "            \n",
    "        if metric=='unieval':\n",
    "            data[dataset]['metrics']['array'] += np.array(metric_array[:,:3].tolist()).T.tolist()\n",
    "            data[dataset]['metrics']['names'] += 3*[metric]\n",
    "        else:   \n",
    "            data[dataset]['metrics']['array'] += np.array(metric_array.tolist()).T.tolist()\n",
    "            data[dataset]['metrics']['names'] += metric_array.shape[1]*[metric]\n",
    "    \n",
    "    data[dataset]['metrics']['array'] = np.array(data[dataset]['metrics']['array']).T"
   ]
  },
  {
   "cell_type": "markdown",
   "id": "e464e54f",
   "metadata": {},
   "source": [
    "Data sizes"
   ]
  },
  {
   "cell_type": "code",
   "execution_count": 7,
   "id": "fbff20b3",
   "metadata": {},
   "outputs": [],
   "source": [
    "# Training set sizes\n",
    "m = {}\n",
    "m['summeval'] = 370\n",
    "m['newsroom'] = 370\n",
    "m['hallxsum'] = 370\n",
    "m['qagsxsum'] = 180\n",
    "m['qagscnn'] = 180\n",
    "\n",
    "# Test set sizes\n",
    "n = {}\n",
    "n['summeval'] = 50\n",
    "n['newsroom'] = 50\n",
    "n['hallxsum'] = 50\n",
    "n['qagsxsum'] = 50\n",
    "n['qagscnn'] = 50"
   ]
  },
  {
   "cell_type": "markdown",
   "id": "58ea4c7f",
   "metadata": {},
   "source": [
    "## Running exp"
   ]
  },
  {
   "cell_type": "markdown",
   "id": "11d35b9c",
   "metadata": {},
   "source": [
    "Standardizing response variables "
   ]
  },
  {
   "cell_type": "code",
   "execution_count": 8,
   "id": "48ec6852",
   "metadata": {},
   "outputs": [],
   "source": [
    "for dataset in datasets: \n",
    "    for dim in datasets2dims[dataset]:\n",
    "        array = np.array(data[dataset]['annot'][dim])\n",
    "        data[dataset]['annot'][dim] = (array-array.mean())/array.std()"
   ]
  },
  {
   "cell_type": "markdown",
   "id": "0df00798",
   "metadata": {},
   "source": [
    "Creating data structures to store results"
   ]
  },
  {
   "cell_type": "code",
   "execution_count": 9,
   "id": "6c8cb60f",
   "metadata": {},
   "outputs": [],
   "source": [
    "results = {}\n",
    "for dataset in datasets:\n",
    "    for dim in datasets2dims[dataset]: \n",
    "        task = dataset+\"_\"+dim\n",
    "        results[task] = {}\n",
    "        for split in ['train','test']:\n",
    "            results[task][split] = {}\n",
    "            results[task][split]['annots'] = []\n",
    "            for metric in dims2datasets[dim] + metrics_names:\n",
    "                results[task][split][metric] = []\n",
    "\n",
    "#We will store experts used in each data point for each task\n",
    "exp_ind = {}\n",
    "\n",
    "#These X and y will be used to classify a text according to membership\n",
    "X = {}\n",
    "y = {}\n",
    "for split in ['train','test']:\n",
    "    X[split] = []\n",
    "    y[split] = []\n",
    "\n",
    "#We will store classifiers here\n",
    "classifiers = []"
   ]
  },
  {
   "cell_type": "markdown",
   "id": "06e951a5",
   "metadata": {},
   "source": [
    "Running experiment"
   ]
  },
  {
   "cell_type": "code",
   "execution_count": 10,
   "id": "d06f8ecc",
   "metadata": {},
   "outputs": [
    {
     "name": "stderr",
     "output_type": "stream",
     "text": [
      "100%|█████████████████████████████████████████████████████████████████████████████████████████████████████████████████████████████████████████████████████████████████████| 25/25 [03:22<00:00,  8.10s/it]\n"
     ]
    }
   ],
   "source": [
    "### Monte Carlo ###\n",
    "for b in tqdm(range(B)): \n",
    "    \n",
    "    ### Spliting data indices ###\n",
    "    random.seed(b)\n",
    "    indices = {}\n",
    "    indices['train'] = {}\n",
    "    indices['test'] = {}\n",
    "    \n",
    "    for dataset in datasets:\n",
    "        ind = random.sample(list(range(data[dataset]['annot']['con'].shape[0])), m[dataset]+n[dataset]) #Sampling a total of m+n datapoints and then split them\n",
    "        indices['train'][dataset] = ind[:m[dataset]] #Train indices\n",
    "        indices['test'][dataset] = ind[m[dataset]:] #Test indices\n",
    "    \n",
    "    ### Training experts ###\n",
    "    experts = {}\n",
    "    for dim in dims:\n",
    "        experts[dim] = {}\n",
    "        for dataset in dims2datasets[dim]:\n",
    "            experts[dim][dataset] = LinearRegression(positive=True)\n",
    "            experts[dim][dataset].fit(data[dataset]['metrics']['array'][indices['train'][dataset]], data[dataset]['annot'][dim][indices['train'][dataset]])\n",
    "        \n",
    "        \n",
    "    ### Using experts and benchmarks to predict scores ### \n",
    "    for dim in dims:\n",
    "        for dataset in dims2datasets[dim]:\n",
    "            \n",
    "            task = dataset+\"_\"+dim\n",
    "            \n",
    "            # We need to store separately train and test results because we can only train membership classifier using training set #\n",
    "            for split in ['train','test']:\n",
    "                \n",
    "                # Storing annots #\n",
    "                results[task][split]['annots'].append(data[dataset]['annot'][dim][indices[split][dataset]])\n",
    "\n",
    "                # Computing and storing auto metrics #\n",
    "                for metric in dims2datasets[dim] + metrics_names:\n",
    "\n",
    "                    if metric in dims2datasets[dim]:\n",
    "                        y_hat = experts[dim][metric].predict(data[dataset]['metrics']['array'][indices[split][dataset]])\n",
    "\n",
    "                    elif metric=='bertscorefree':\n",
    "                        y_hat = np.array(data[dataset]['metrics']['bertscorefree'])[indices[split][dataset], 0] #precision (best) score\n",
    "                                        \n",
    "                    elif metric=='unieval':\n",
    "                        if dim=='coh':\n",
    "                            y_hat = np.array(data[dataset]['metrics']['unieval'])[indices[split][dataset], 0]\n",
    "                        elif dim=='con':\n",
    "                            y_hat = np.array(data[dataset]['metrics']['unieval'])[indices[split][dataset], 1]\n",
    "                        elif dim=='flu':\n",
    "                            y_hat = np.array(data[dataset]['metrics']['unieval'])[indices[split][dataset], 2]\n",
    "                        else:\n",
    "                            y_hat = np.array(data[dataset]['metrics']['unieval'])[indices[split][dataset], 3]\n",
    "\n",
    "                    else:\n",
    "                        y_hat = np.array(data[dataset]['metrics'][metric])[indices[split][dataset]]\n",
    "\n",
    "                    \n",
    "                    results[task][split][metric].append(y_hat) \n",
    "    \n",
    "    ### Obtaining X and y for membership classification ###\n",
    "    for split in ['train','test']:\n",
    "        X[split].append(np.hstack([[experts[dim][expert].predict(data[dataset]['metrics']['array'][indices[split][dataset]]) for dim in dims for expert in dims2datasets[dim]] for dataset in datasets]).T)\n",
    "    y['train'].append(np.hstack([m[dataset]*[datasets2label[dataset]] for dataset in datasets]))\n",
    "    y['test'].append(np.hstack([n[dataset]*[datasets2label[dataset]] for dataset in datasets]))\n",
    "\n",
    "    ### Training classifiers ###\n",
    "    classifiers.append(catb(X['train'][-1], y['train'][-1], test_size=0.1, balance=True)) #Since test set is balanced, we will balance the training set\n",
    "    \n",
    "    ### Getting predicted membership for modelfuser evaluation ###\n",
    "    exp_ind[b] = {}\n",
    "    for dim in dims:\n",
    "        \n",
    "        for dataset in dims2datasets[dim]:\n",
    "            task = dataset+\"_\"+dim\n",
    "            possible_classes = dims2datasetslabels[dim]\n",
    "            proba = classifiers[-1].predict_proba(np.hstack([[experts[dim][expert].predict(data[dataset]['metrics']['array'][indices['test'][dataset]]) for dim in dims for expert in dims2datasets[dim]]]).T)         \n",
    "            experts_indices = np.array([possible_classes[x] for x in np.argmax(proba[:, possible_classes], axis=1)])\n",
    "            exp_ind[b][task] = experts_indices"
   ]
  },
  {
   "cell_type": "markdown",
   "id": "1d9cd32e",
   "metadata": {},
   "source": [
    "Checking confusion matrix"
   ]
  },
  {
   "cell_type": "code",
   "execution_count": 11,
   "id": "4c3cdd23",
   "metadata": {},
   "outputs": [
    {
     "data": {
      "image/png": "[encoded data removed]",
      "text/plain": [
       "<Figure size 640x480 with 2 Axes>"
      ]
     },
     "metadata": {},
     "output_type": "display_data"
    }
   ],
   "source": [
    "b=0\n",
    "y_true = y['test'][b]\n",
    "y_pred = classifiers[b].predict(X['test'][b])\n",
    "cm = confusion_matrix(y_true, y_pred)\n",
    "for b in range(1, B):\n",
    "    y_true = y['test'][b]\n",
    "    y_pred = classifiers[b].predict(X['test'][b])\n",
    "    cm += confusion_matrix(y_true, y_pred)\n",
    "cm=cm/B\n",
    "\n",
    "plot_confusion_matrix(cm, classes=datasets, title='Classifying points according to membership\\n(avg confusion matrix across MC repetitions)')\n",
    "plt.savefig('plots/confusion_matrix.png', bbox_inches='tight', dpi=300, transparent=True)\n",
    "plt.show()"
   ]
  },
  {
   "cell_type": "markdown",
   "id": "9e5fa7fe",
   "metadata": {},
   "source": [
    "### Avg correlation (across experts)"
   ]
  },
  {
   "cell_type": "code",
   "execution_count": 12,
   "id": "eaed2967",
   "metadata": {},
   "outputs": [],
   "source": [
    "scores = {}\n",
    "\n",
    "for b in range(B):\n",
    "    scores[b] = {}\n",
    "    \n",
    "    for dim in dims:\n",
    "\n",
    "        for dataset in dims2datasets[dim]:\n",
    "            task = dataset+\"_\"+dim\n",
    "            metrics = list(results[task]['test'].keys())\n",
    "            metrics.remove('annots')\n",
    "            scores[b][task] = {}\n",
    "\n",
    "            for metric in metrics: \n",
    "                scores[b][task][metric] = calculate_correlation(results[task]['test']['annots'][b], results[task]['test'][metric][b], correlation)\n",
    "                scores[b][task][metric] = np.nan_to_num(scores[b][task][metric])\n",
    "                \n",
    "            scores[b][task]['modelfuser'] = np.array([scores[b][task][dataset2] for dataset2 in dims2datasets[dim]])@np.array([np.mean(np.array(exp_ind[b][task])==label) for label in dims2datasetslabels[dim]])\n",
    "            scores[b][task]['oracle'] = scores[b][task][dataset]"
   ]
  },
  {
   "cell_type": "code",
   "execution_count": 13,
   "id": "c0289490",
   "metadata": {},
   "outputs": [
    {
     "name": "stderr",
     "output_type": "stream",
     "text": [
      "/home/skunk/.local/lib/python3.8/site-packages/numpy/core/fromnumeric.py:3464: RuntimeWarning: Mean of empty slice.\n",
      "  return _methods._mean(a, axis=axis, dtype=dtype,\n",
      "/home/skunk/.local/lib/python3.8/site-packages/numpy/core/_methods.py:192: RuntimeWarning: invalid value encountered in scalar divide\n",
      "  ret = ret.dtype.type(ret / rcount)\n"
     ]
    }
   ],
   "source": [
    "# a waring will appear cause we are taling avgs and std of empty arrays in the third line of inner loop (there is no eval for coh,flu,rel when metric==qags's or xsum)\n",
    "tasks=[]\n",
    "for dim in dims:\n",
    "    for dataset in dims2datasets[dim]:\n",
    "        tasks.append(dataset+\"_\"+dim)\n",
    "        \n",
    "for b in range(B):\n",
    "    scores[b]['avg'] = {}\n",
    "    scores[b]['avg_con'] = {}\n",
    "    scores[b]['avg_no_con'] = {}\n",
    "    \n",
    "    for metric in ['oracle','modelfuser'] + datasets + metrics_names:\n",
    "        scores[b]['avg'][metric] = np.mean([scores[b][key][metric] for key in tasks if metric in scores[b][key].keys()])\n",
    "        scores[b]['avg_con'][metric] = np.mean([scores[b][key][metric] for key in tasks if key[-3:]=='con'])\n",
    "        scores[b]['avg_no_con'][metric] = np.mean([scores[b][key][metric] for key in tasks if metric in scores[b][key].keys() and key[-3:]!='con'])     "
   ]
  },
  {
   "cell_type": "code",
   "execution_count": 14,
   "id": "ac04c9fa",
   "metadata": {},
   "outputs": [
    {
     "name": "stderr",
     "output_type": "stream",
     "text": [
      "/home/skunk/.local/lib/python3.8/site-packages/numpy/core/_methods.py:269: RuntimeWarning: Degrees of freedom <= 0 for slice\n",
      "  ret = _var(a, axis=axis, dtype=dtype, out=out, ddof=ddof,\n",
      "/home/skunk/.local/lib/python3.8/site-packages/numpy/core/_methods.py:226: RuntimeWarning: invalid value encountered in divide\n",
      "  arrmean = um.true_divide(arrmean, div, out=arrmean,\n",
      "/home/skunk/.local/lib/python3.8/site-packages/numpy/core/_methods.py:261: RuntimeWarning: invalid value encountered in scalar divide\n",
      "  ret = ret.dtype.type(ret / rcount)\n"
     ]
    }
   ],
   "source": [
    "scores_agg = {}\n",
    "\n",
    "for key in scores[0].keys():\n",
    "    scores_agg[key] = {}\n",
    "    \n",
    "    for metric in ['oracle','modelfuser'] + datasets + metrics_names:\n",
    "        arr = [scores[b][key][metric] for b in range(B) if metric in scores[b][key].keys()]\n",
    "        scores_agg[key][metric] = {}\n",
    "        scores_agg[key][metric]['avg'] = np.round(np.mean(arr), 3)\n",
    "        scores_agg[key][metric]['std'] = np.round(np.std(arr), 3)"
   ]
  },
  {
   "cell_type": "code",
   "execution_count": 15,
   "id": "0fb54a27",
   "metadata": {},
   "outputs": [
    {
     "name": "stdout",
     "output_type": "stream",
     "text": [
      "summeval_coh & 0.61 & 0.599 & 0.61 & 0.525 & - & - & - & 0.423 & 0.448 & 0.428 & 0.463 & 0.371 & 0.489 \\\\\n",
      "newsroom_coh & 0.653 & 0.649 & 0.627 & 0.653 & - & - & - & 0.604 & 0.643 & 0.621 & 0.543 & 0.601 & 0.435 \\\\\n",
      "summeval_con & 0.655 & 0.613 & 0.655 & 0.293 & 0.502 & 0.548 & 0.499 & 0.436 & 0.237 & 0.314 & 0.356 & 0.189 & 0.646 \\\\\n",
      "newsroom_con & 0.685 & 0.652 & 0.51 & 0.685 & 0.612 & 0.592 & 0.586 & 0.615 & 0.657 & 0.634 & 0.529 & 0.589 & 0.41 \\\\\n",
      "hallxsum_con & 0.243 & 0.237 & 0.209 & 0.167 & 0.237 & 0.241 & 0.243 & 0.191 & 0.202 & 0.203 & 0.202 & 0.216 & 0.182 \\\\\n",
      "qagscnn_con & 0.747 & 0.738 & 0.716 & 0.673 & 0.747 & 0.747 & 0.729 & 0.627 & 0.728 & 0.737 & 0.724 & 0.598 & 0.642 \\\\\n",
      "qagsxsum_con & 0.348 & 0.343 & 0.357 & 0.112 & 0.337 & 0.348 & 0.323 & 0.1 & 0.232 & 0.196 & 0.196 & 0.086 & 0.34 \\\\\n",
      "summeval_flu & 0.594 & 0.578 & 0.594 & 0.459 & - & - & - & 0.339 & 0.225 & 0.281 & 0.303 & 0.155 & 0.461 \\\\\n",
      "newsroom_flu & 0.61 & 0.599 & 0.525 & 0.61 & - & - & - & 0.553 & 0.597 & 0.579 & 0.51 & 0.565 & 0.392 \\\\\n",
      "summeval_rel & 0.565 & 0.557 & 0.565 & 0.494 & - & - & - & 0.458 & 0.398 & 0.427 & 0.441 & 0.331 & 0.415 \\\\\n",
      "newsroom_rel & 0.743 & 0.733 & 0.665 & 0.743 & - & - & - & 0.669 & 0.663 & 0.629 & 0.583 & 0.626 & 0.166 \\\\\n",
      "avg & 0.587 & 0.573 & 0.549 & 0.492 & 0.487 & 0.495 & 0.476 & 0.456 & 0.457 & 0.459 & 0.441 & 0.393 & 0.416 \\\\\n",
      "avg_con & 0.536 & 0.517 & 0.489 & 0.386 & 0.487 & 0.495 & 0.476 & 0.394 & 0.411 & 0.417 & 0.401 & 0.336 & 0.444 \\\\\n",
      "avg_no_con & 0.629 & 0.619 & 0.598 & 0.581 & - & - & - & 0.508 & 0.496 & 0.494 & 0.474 & 0.442 & 0.393 \\\\\n"
     ]
    }
   ],
   "source": [
    "dic = scores_agg\n",
    "\n",
    "for key in dic:\n",
    "    line = key\n",
    "    for subkey in dic[key]:\n",
    "        avg = dic[key][subkey]['avg']\n",
    "        if math.isnan(avg):\n",
    "            line += \" & -\"\n",
    "        else:\n",
    "            line += \" & \" + str(avg)\n",
    "    line += \" \\\\\\\\\"\n",
    "    print(line)"
   ]
  },
  {
   "cell_type": "code",
   "execution_count": 16,
   "id": "ddd130e6",
   "metadata": {},
   "outputs": [
    {
     "name": "stdout",
     "output_type": "stream",
     "text": [
      "avg 0.024 0.013\n",
      "avg_con 0.027 0.02\n",
      "avg_no_con 0.021 0.013\n"
     ]
    }
   ],
   "source": [
    "for key in ['avg', 'avg_con', 'avg_no_con']:\n",
    "\n",
    "    metric1 = 'modelfuser'\n",
    "    arr1 = np.array([scores[b][key][metric1] for b in range(B)])\n",
    "    \n",
    "    metric2 = 'summeval'\n",
    "    arr2 = np.array([scores[b][key][metric2] for b in range(B)])\n",
    "    \n",
    "    print(key , np.round(np.mean(arr1-arr2),3), np.round(np.std(arr1-arr2),3))"
   ]
  }
 ],
 "metadata": {
  "kernelspec": {
   "display_name": "Python 3 (ipykernel)",
   "language": "python",
   "name": "python3"
  },
  "language_info": {
   "codemirror_mode": {
    "name": "ipython",
    "version": 3
   },
   "file_extension": ".py",
   "mimetype": "text/x-python",
   "name": "python",
   "nbconvert_exporter": "python",
   "pygments_lexer": "ipython3",
   "version": "3.8.10"
  }
 },
 "nbformat": 4,
 "nbformat_minor": 5
}
